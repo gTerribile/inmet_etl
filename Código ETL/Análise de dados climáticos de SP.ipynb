{
 "cells": [
  {
   "cell_type": "code",
   "execution_count": 4,
   "id": "88488edb",
   "metadata": {},
   "outputs": [],
   "source": [
    "import pandas as pd"
   ]
  },
  {
   "cell_type": "code",
   "execution_count": 5,
   "id": "02411b4c",
   "metadata": {},
   "outputs": [],
   "source": [
    "def obter_media_mes(nome: str) -> list:\n",
    "    \n",
    "    media_mes_ano = [] #lista vazia na qual será introduzida as médias de temperatura de janeira à dezembro\n",
    "    \n",
    "    for i in range(1, 13): #iterando os meses, de '01' até '12'\n",
    "        numero_mes = f\"{i:02}\" \n",
    "    \n",
    "        with open (file=nome, mode='r', encoding='utf8') as arquivo: \n",
    "\n",
    "            lista = [] #Cria uma lista vazia, e será adiconado todas as temperaturas do mês a ser filtrado\n",
    "\n",
    "            linha = arquivo.readline() #Pulando cabeçalho\n",
    "\n",
    "            # Filtro da linha a ser verificada --> 1)cabecalho 2)Temperatura\n",
    "            linha = arquivo.readline()\n",
    "            while linha:\n",
    "                linha_separada = linha.split(sep=';') #separando cada linha em uma lista separada por ';'\n",
    "                data = linha_separada[0] #Separa a data\n",
    "                data = data.replace(\"/\" , \"-\") \n",
    "                data = data.split('-') \n",
    "                mes = data[1] #Separa o mês do dado\n",
    "                if mes == numero_mes: \n",
    "                    try:\n",
    "                        temperatura = linha_separada[7] #extraindo a temperatura do arquivo\n",
    "                        temperatura = temperatura.replace(\",\" , \".\") #alterando \",\" para \".\" nos números\n",
    "                        temperatura = float(temperatura) #transformando de str -> float\n",
    "                        if (temperatura > 0) and (temperatura < 55): lista.append(temperatura) # eliminando dados incorretos\n",
    "                        linha = arquivo.readline()\n",
    "                    except ValueError:\n",
    "                        linha = arquivo.readline()\n",
    "                    # Final da verificação   \n",
    "                else:\n",
    "                    linha = arquivo.readline() # Caso não seja o mês da iteração, verifica a próxima linha\n",
    "\n",
    "            media = round(sum(lista) / len(lista), 1) #da lista com temperaturas, extrai a média e arredonda o número\n",
    "        \n",
    "            media_mes_ano.append(media) # adiciona a média na lista \"media_mes_ano\"\n",
    "        \n",
    "    return media_mes_ano #retorna a lista"
   ]
  },
  {
   "cell_type": "code",
   "execution_count": 6,
   "id": "44607744",
   "metadata": {},
   "outputs": [],
   "source": [
    "temperaturas_2010 = obter_media_mes('./2010 - 2020 (Mirante de santana SP)/INMET_SP_2010.csv')\n",
    "temperaturas_2011 = obter_media_mes('./2010 - 2020 (Mirante de santana SP)/INMET_SP_2011.csv')\n",
    "temperaturas_2012 = obter_media_mes('./2010 - 2020 (Mirante de santana SP)/INMET_SP_2012.csv')\n",
    "temperaturas_2013 = obter_media_mes('./2010 - 2020 (Mirante de santana SP)/INMET_SP_2013.csv')\n",
    "temperaturas_2014 = obter_media_mes('./2010 - 2020 (Mirante de santana SP)/INMET_SP_2014.csv')\n",
    "temperaturas_2015 = obter_media_mes('./2010 - 2020 (Mirante de santana SP)/INMET_SP_2015.csv')\n",
    "temperaturas_2016 = obter_media_mes('./2010 - 2020 (Mirante de santana SP)/INMET_SP_2016.csv')\n",
    "temperaturas_2017 = obter_media_mes('./2010 - 2020 (Mirante de santana SP)/INMET_SP_2017.csv')\n",
    "temperaturas_2018 = obter_media_mes('./2010 - 2020 (Mirante de santana SP)/INMET_SP_2018.csv')\n",
    "temperaturas_2019 = obter_media_mes('./2010 - 2020 (Mirante de santana SP)/INMET_SP_2019.csv')\n",
    "temperaturas_2020 = obter_media_mes('./2010 - 2020 (Mirante de santana SP)/INMET_SP_2020.csv')\n",
    "\n",
    "meses = [ \n",
    "    \"Janeiro\", \"Fevereiro\", \"Marco\", \"Abril\", \"Maio\", \"Junho\",\n",
    "    \"Julho\", \"Agosto\", \"Setembro\", \"Outubro\", \"Novembro\", \"Dezembro\"\n",
    "]\n",
    "\n",
    "\n",
    "df = pd.DataFrame({'Mes': meses, 'Media de Temperatura (2010)': temperaturas_2010, 'Media de Temperatura (2011)': temperaturas_2011, 'Media de Temperatura (2012)': temperaturas_2012, 'Media de Temperatura (2013)': temperaturas_2013, 'Media de Temperatura (2014)': temperaturas_2014, 'Media de Temperatura (2015)': temperaturas_2015, 'Media de Temperatura (2016)': temperaturas_2016, 'Media de Temperatura (2017)': temperaturas_2017, 'Media de Temperatura (2018)': temperaturas_2018, 'Media de Temperatura (2019)': temperaturas_2019, 'Media de Temperatura (2020)': temperaturas_2020})\n",
    "\n",
    "nome_arquivo = \"temperaturas_2010_a_2020.csv\"\n",
    "\n",
    "df.to_csv(nome_arquivo, index=False)"
   ]
  },
  {
   "cell_type": "code",
   "execution_count": null,
   "id": "f07aa131",
   "metadata": {},
   "outputs": [],
   "source": []
  }
 ],
 "metadata": {
  "kernelspec": {
   "display_name": "Python 3 (ipykernel)",
   "language": "python",
   "name": "python3"
  },
  "language_info": {
   "codemirror_mode": {
    "name": "ipython",
    "version": 3
   },
   "file_extension": ".py",
   "mimetype": "text/x-python",
   "name": "python",
   "nbconvert_exporter": "python",
   "pygments_lexer": "ipython3",
   "version": "3.9.13"
  }
 },
 "nbformat": 4,
 "nbformat_minor": 5
}
